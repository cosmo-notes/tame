{
 "cells": [
  {
   "cell_type": "markdown",
   "id": "11809ad2-7971-4816-b92b-4905133da2a5",
   "metadata": {
    "tags": []
   },
   "source": [
    "# Exercises part I: SIS dynamics"
   ]
  },
  {
   "cell_type": "markdown",
   "id": "048a52b6-ee0d-4a9f-bd75-1eba9d65e1bd",
   "metadata": {},
   "source": [
    "## SIS dynamics with spontaneous infections"
   ]
  },
  {
   "cell_type": "markdown",
   "id": "6c211e14-5d1f-40a5-a2ed-4e2e2eba280f",
   "metadata": {},
   "source": [
    "Master equations are powerful because they capture the stochasticity, discreteness, finiteness, and absorbing states, important to many complex systems. Let's revisit one of the most classic and simple model: the Susceptible-Infectious-Susceptible dynamics. The compartmental version of this model goes as follows. We study a population of $N$ individuals which can all be in one of two states, such that $S(t)$ are susceptible and $I(t)$ are infectious at time $t$. Infectious individuals infect susceptible individuals at rate $\\beta$ and recover to become susceptible again at rate $\\alpha$."
   ]
  },
  {
   "cell_type": "markdown",
   "id": "0bd2434e",
   "metadata": {},
   "source": [
    "![sis_schematic](assets/png/schematic2_SIS.png)"
   ]
  },
  {
   "cell_type": "markdown",
   "id": "76c2704a-679e-4fe1-b5cd-df5409ee709d",
   "metadata": {},
   "source": [
    "Importantly, we now add an extra mechanism and assume that susceptible individuals can also get infected by their environment at some rate $\\epsilon$. We can call those spontaneous infections or [self-infections](https://journals.aps.org/pre/abstract/10.1103/PhysRevE.101.032303). What are the *exact* dynamics of this process?"
   ]
  },
  {
   "cell_type": "markdown",
   "id": "7fe76fdf",
   "metadata": {},
   "source": [
    "1. First, construct the master equation.\n",
    ":::{hint}\n",
    "Remember that master equations allow us to capture the finiteness of $N$\n",
    ":::"
   ]
  },
  {
   "cell_type": "markdown",
   "id": "0bdcfbff-e88e-41f2-a071-64323d56f53b",
   "metadata": {},
   "source": [
    "2. Integrate the master equation over time to look at the behavior of the system for different values of the parameters. What happens if $N$ goes to one? What happens if $\\beta$ or $\\epsilon$ go to zero?\n",
    "3. Solve the master equations using some of the methods studied in this tutorial. Does the solution capture the intuition you built by integrating the system for different values of $\\epsilon$?\n",
    "4. Can you derive the standard SIS equation using the method of moments? Do you have to make any approximation to recover the standard solution?\n",
    ":::{hint}\n",
    "When $\\epsilon = 0$, the mean-field SIS model is described by a single equation: $\\dot{S} = \\alpha (N-S) - \\beta S (N-S)$\n",
    ":::"
   ]
  }
 ],
 "metadata": {
  "kernelspec": {
   "display_name": "Python 3 (ipykernel)",
   "language": "python",
   "name": "python3"
  },
  "language_info": {
   "codemirror_mode": {
    "name": "ipython",
    "version": 3
   },
   "file_extension": ".py",
   "mimetype": "text/x-python",
   "name": "python",
   "nbconvert_exporter": "python",
   "pygments_lexer": "ipython3",
   "version": "3.10.12"
  }
 },
 "nbformat": 4,
 "nbformat_minor": 5
}
