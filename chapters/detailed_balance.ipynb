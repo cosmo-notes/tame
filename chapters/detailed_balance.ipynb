{
 "cells": [
  {
   "cell_type": "markdown",
   "id": "a9815087-958b-493c-8a7c-7e4ed6a2a1e7",
   "metadata": {},
   "source": [
    "# Detailed balance"
   ]
  },
  {
   "cell_type": "markdown",
   "id": "df48d4be-2dd6-457d-9576-be5ad25110f7",
   "metadata": {},
   "source": [
    "We started the previous section by stating the obvious: Master equations are simply systems of differential equations and can therefore be solved by the usual techniques. However, there are many additional restrictions to master equations that allow us to define useful tools for their analysis. In particular, master equations track occupation numbers which represent a probability mass function. Therefore, the variables of this system of equations are always positive and must sum to one.\n",
    "\n",
    "The steady states of master equations sometimes follow a highly constrained set of flows that can help solve the exact equilibrium values. We say that a system follows [detailed balance](https://en.wikipedia.org/wiki/Detailed_balance) when the input and output flows between each pairs of states balance each other (i.e., every transition is reversible and used as frequently in each direction). Mathematically, we can write"
   ]
  },
  {
   "cell_type": "markdown",
   "id": "9043b768",
   "metadata": {},
   "source": [
    "$$\n",
    "J_{n\\rightarrow m} = J_{m\\rightarrow n} \\quad or \\quad \\omega(n,m)P_n = \\omega(m,n)P_m \\quad \\forall \\; n,m\n",
    "$$"
   ]
  },
  {
   "cell_type": "markdown",
   "id": "8362c64e",
   "metadata": {},
   "source": [
    "where the second equality highlights how this equality between flow of probability mass can be expressed as an equality between rates of transition $\\omega$ and occupation numbers $P_n$ for all pairs of states. It follows that, in a system following detailed balance, the ratio of occupation numbers at steady state can be written as"
   ]
  },
  {
   "cell_type": "markdown",
   "id": "39861b62",
   "metadata": {},
   "source": [
    "$$\n",
    "\\frac{P_m}{P_n} = \\frac{\\omega(m,n)}{\\omega(n,m)}\n",
    "$$"
   ]
  },
  {
   "cell_type": "markdown",
   "id": "8d892414",
   "metadata": {},
   "source": [
    "which is a very restrictive condition and can make exact solution at equilibrium much easier."
   ]
  },
  {
   "cell_type": "markdown",
   "id": "21e6276a",
   "metadata": {},
   "source": [
    "## Solution to the birth-death process"
   ]
  },
  {
   "cell_type": "markdown",
   "id": "ec9eed33",
   "metadata": {},
   "source": [
    "We have been using a simple [birth–death process](https://en.wikipedia.org/wiki/Birth%E2%80%93death_process) as an example for a while now. Our previous, explicit, solution used the full master equation,"
   ]
  },
  {
   "cell_type": "markdown",
   "id": "3103f7b4",
   "metadata": {},
   "source": [
    "$$\n",
    "\\begin{align}\n",
    "\\frac{d}{dt}P_n(t) &= -\\mu P_n(t) + (n+1)\\nu P_{n+1}(t) \\quad \\textrm{for n=0}\\\\\n",
    "\\frac{d}{dt}P_n(t) &= -(\\mu + n\\nu)P_n(t) + (n+1)\\nu P_{n+1}(t) + \\mu P_{n-1}(t) \\quad \\textrm{for n>0}\\\\\n",
    "\\end{align}\n",
    "$$"
   ]
  },
  {
   "cell_type": "markdown",
   "id": "414fc1c6",
   "metadata": {},
   "source": [
    "However, instead of asking all flows to equal zero on every cell, we can instead ask flows in both direction to match for each transition. This gives us a much simpler recursion than in the previous section. Namely, using detailed balance, we write"
   ]
  },
  {
   "cell_type": "markdown",
   "id": "0d387f03",
   "metadata": {},
   "source": [
    "$$\n",
    "\\frac{P_n}{P_{n-1}} = \\frac{\\mu}{n\\nu} \\; .\n",
    "$$"
   ]
  },
  {
   "cell_type": "markdown",
   "id": "b264e2d4",
   "metadata": {},
   "source": [
    "Let $P_0$ be its own thing to start the series. One can then write the next few terms as $P_1 = \\frac{\\mu}{\\nu}P_0$, $P_2 = \\frac{\\mu^2}{2\\nu^2}P_0$, and quickly generalize to"
   ]
  },
  {
   "cell_type": "markdown",
   "id": "c7683677",
   "metadata": {},
   "source": [
    "$$\n",
    "P_n = \\frac{1}{n!}\\left(\\frac{\\mu}{\\nu}\\right)^n P_0 \\; .\n",
    "$$"
   ]
  },
  {
   "cell_type": "markdown",
   "id": "49acccf5",
   "metadata": {},
   "source": [
    "And all that is left is to solve for $P_0$. What else can we use? Our normalization condition: $\\sum_n P_n = 1$. We therefore write"
   ]
  },
  {
   "cell_type": "markdown",
   "id": "04102e05",
   "metadata": {},
   "source": [
    "$$\n",
    "\\frac{1}{P_0} = \\sum_{n=0}^\\infty \\frac{1}{n!}\\left(\\frac{\\mu}{\\nu}\\right)^n = e^{\\mu/\\nu}\n",
    "$$"
   ]
  },
  {
   "cell_type": "markdown",
   "id": "af7203d3",
   "metadata": {},
   "source": [
    "where we used the Taylor series of the exponential function to simplify the sum and get the last equality."
   ]
  },
  {
   "cell_type": "markdown",
   "id": "66ab57e1",
   "metadata": {},
   "source": [
    "We relatively easily re-obtained our previous solution using the principle of detailed balance:"
   ]
  },
  {
   "cell_type": "markdown",
   "id": "084275e5",
   "metadata": {},
   "source": [
    "$$\n",
    "P_n = \\frac{1}{n!}\\left(\\frac{\\mu}{\\nu}\\right)^n e^{-\\mu/\\nu} \\; .\n",
    "$$"
   ]
  },
  {
   "cell_type": "markdown",
   "id": "8a898ad1",
   "metadata": {},
   "source": [
    "## Defining equilibrium through detailed balance"
   ]
  },
  {
   "cell_type": "markdown",
   "id": "effd67fd",
   "metadata": {},
   "source": [
    "Let us now do a simple experiment using detailed balance in a system at equilibrium in an unspecified number of dimensions. We start this step at state $n=0$, which is nothing special, and first move to state $n=1$. The occupation number at that state is therefore $P_1 = P_0 \\frac{\\omega(1,0)}{\\omega(0,1)}$. Now assume that we do a much longer chain taking us from state 0 to state $m$, the same logic gives us:"
   ]
  },
  {
   "cell_type": "markdown",
   "id": "13d919af",
   "metadata": {},
   "source": [
    "$$\n",
    "P_m = P_0 \\prod _{j=0}^{m-1} \\frac{\\omega(j+1,j)}{\\omega(j,j+1)} \\; .\n",
    "$$"
   ]
  },
  {
   "cell_type": "markdown",
   "id": "c1f180c0",
   "metadata": {},
   "source": [
    "If we pause for a second, we can realize that this is the logic we used to solve the previous system using a chain of length one. This was all we needed to account for all mechanisms. However, sometimes, using longer chains can be useful! In any way, the value of $P_0$ is eventually determined by the normalization condition as we did above."
   ]
  },
  {
   "cell_type": "markdown",
   "id": "1d659086",
   "metadata": {},
   "source": [
    "Now, let us close the chain into a loop. Let's assume that the final state is the first state; i.e., $m\\equiv 0$. Then, the product in our previous expression has to be equal to 1 for $P_0 = P_0$. This means that over any close loop or cycle $\\Gamma$ in the transition network, we have (if detailed balance holds):"
   ]
  },
  {
   "cell_type": "markdown",
   "id": "cef70b0e",
   "metadata": {},
   "source": [
    "$$\n",
    "\\prod _{j\\in\\Gamma} \\frac{\\omega(j+1,j)}{\\omega(j,j+1)} = 1 \\; .\n",
    "$$"
   ]
  },
  {
   "cell_type": "markdown",
   "id": "698d7d67",
   "metadata": {},
   "source": [
    "This is an important result as it is independent of any unknown stationary occupation numbers $P_n$. It simply relates the concept of detailed balance to the mechanistic transitions and their parameters. It can be used to prove that detailed balance holds as a function of the transition rates. "
   ]
  }
 ],
 "metadata": {
  "kernelspec": {
   "display_name": "Python 3 (ipykernel)",
   "language": "python",
   "name": "python3"
  },
  "language_info": {
   "codemirror_mode": {
    "name": "ipython",
    "version": 3
   },
   "file_extension": ".py",
   "mimetype": "text/x-python",
   "name": "python",
   "nbconvert_exporter": "python",
   "pygments_lexer": "ipython3",
   "version": "3.10.12"
  }
 },
 "nbformat": 4,
 "nbformat_minor": 5
}
