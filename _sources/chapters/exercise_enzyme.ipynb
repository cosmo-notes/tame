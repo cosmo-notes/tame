{
 "cells": [
  {
   "cell_type": "markdown",
   "id": "11809ad2-7971-4816-b92b-4905133da2a5",
   "metadata": {
    "tags": []
   },
   "source": [
    "# Exercises part II: Enzymes"
   ]
  },
  {
   "cell_type": "markdown",
   "id": "048a52b6-ee0d-4a9f-bd75-1eba9d65e1bd",
   "metadata": {},
   "source": [
    "## Enzymes and chemical reactions"
   ]
  },
  {
   "cell_type": "markdown",
   "id": "6c211e14-5d1f-40a5-a2ed-4e2e2eba280f",
   "metadata": {},
   "source": [
    "[Enzymes](https://en.wikipedia.org/wiki/Enzyme) are biocatalysts. They bind to some molecules and accelerate some chemical reactions, turning a substrate (the molecule) into a product (another molecule) we might care (or not) about. The transition of this system goes a little like this:"
   ]
  },
  {
   "cell_type": "markdown",
   "id": "bbe339ff",
   "metadata": {},
   "source": [
    "![enzyme_schematic](assets/png/enzyme.png)"
   ]
  },
  {
   "cell_type": "markdown",
   "id": "76c2704a-679e-4fe1-b5cd-df5409ee709d",
   "metadata": {},
   "source": [
    "Let's assume that we care about a product that comes from a substrate whose reaction rate is zero without the presence of an enzyme. We have some initial amount $S(0)$ of the substrate in a liquid volume, and plan to introduce an initial amount $E(0)$ of the enzyme. Can we model the catalyzation dynamics and predict how the production $P(t)$ will depend on $E(0)$?"
   ]
  },
  {
   "cell_type": "markdown",
   "id": "0bdcfbff-e88e-41f2-a071-64323d56f53b",
   "metadata": {},
   "source": [
    "1. First, construct a master equation model.\n",
    ":::{hint}\n",
    "Remember to think about the modelling recipe. What are the important parts of the system? What states do they take? What are the important transitions?\n",
    ":::"
   ]
  },
  {
   "cell_type": "markdown",
   "id": "844dcdbf",
   "metadata": {},
   "source": [
    "2. Integrate your master equation over time to look at the behavior of the system for different values of $E(0)$.\n",
    "3. Write a mean-field version of the same dynamics. Can the mean-field model predict the initial production rate $\\dot{P}(0)$? Can you analytically solve this initial production rate?\n",
    "4. Can the mean-field model predict the expected half-life of the substrate at different level of $S(0)$?\n",
    ":::{hint}\n",
    "The half-life is the time needed to have an amount $S(0)/2$ of the substrate left.\n",
    ":::"
   ]
  }
 ],
 "metadata": {
  "kernelspec": {
   "display_name": "Python 3 (ipykernel)",
   "language": "python",
   "name": "python3"
  },
  "language_info": {
   "codemirror_mode": {
    "name": "ipython",
    "version": 3
   },
   "file_extension": ".py",
   "mimetype": "text/x-python",
   "name": "python",
   "nbconvert_exporter": "python",
   "pygments_lexer": "ipython3",
   "version": "3.10.12"
  }
 },
 "nbformat": 4,
 "nbformat_minor": 5
}
